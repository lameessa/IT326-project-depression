{
  "metadata": {
    "kernelspec": {
      "name": "python",
      "display_name": "Python (Pyodide)",
      "language": "python"
    },
    "language_info": {
      "codemirror_mode": {
        "name": "python",
        "version": 3
      },
      "file_extension": ".py",
      "mimetype": "text/x-python",
      "name": "python",
      "nbconvert_exporter": "python",
      "pygments_lexer": "ipython3",
      "version": "3.8"
    }
  },
  "nbformat_minor": 4,
  "nbformat": 4,
  "cells": [
    {
      "cell_type": "markdown",
      "source": "# IT326 Project - Phase1",
      "metadata": {}
    },
    {
      "cell_type": "markdown",
      "source": "### Depression ",
      "metadata": {}
    },
    {
      "cell_type": "markdown",
      "source": "##### \"Depression (also known as major depression, major depressive disorder, or clinical depression) is a common but serious mood disorder. It causes severe symptoms that affect how a person feels, thinks, and handles daily activities, such as sleeping, eating, or working\".",
      "metadata": {}
    },
    {
      "cell_type": "markdown",
      "source": "### The goal",
      "metadata": {}
    },
    {
      "cell_type": "markdown",
      "source": "##### The goal of this project is to use data mining techniques to explore how depression affects different aspects of life and how these aspects influence each other. We will focus on factors such as age, gender, marital status, and socioeconomic status, among others. By analyzing this data, we aim to reveal the connections between these factors and depression, ultimately helping us gain better insights to support affected individuals.\n",
      "metadata": {
        "jp-MarkdownHeadingCollapsed": true
      }
    },
    {
      "cell_type": "markdown",
      "source": "### General information about the dataset:",
      "metadata": {}
    },
    {
      "cell_type": "markdown",
      "source": "##### The dataset contains comprehensive data aimed at analyzing depression and its related factors. It includes various attributes that can be used to study the depression status of individuals.\n",
      "metadata": {}
    },
    {
      "cell_type": "code",
      "source": "import pandas as pd",
      "metadata": {
        "trusted": true
      },
      "outputs": [],
      "execution_count": 5
    },
    {
      "cell_type": "code",
      "source": "df = pd.read_csv('b_depressed.csv')",
      "metadata": {
        "trusted": true
      },
      "outputs": [],
      "execution_count": 6
    },
    {
      "cell_type": "code",
      "source": "num_attributes = len(df.columns)\nattribute_types = df.dtypes.to_frame().rename(columns={0: 'Data Types'})\nnum_objects = len(df)\nclass_name = df.columns[-1]  \n\ntext3= \"Number of attributes:\"\nbold_text3 = \"\\033[1m\" + text3 + \"\\033[0m\"\nprint(bold_text3, num_attributes)\nprint(\"\\n\")\n\ntext4= \"Attribute types:\"\nbold_text4 = \"\\033[1m\" + text4 + \"\\033[0m\"\nprint(bold_text4)\nprint(attribute_types)\nprint(\"\\n\")\n\ntext5= \"Number of objects:\"\nbold_text5 = \"\\033[1m\" + text5 + \"\\033[0m\"\nprint(bold_text5, num_objects)\nprint(\"\\n\")",
      "metadata": {
        "trusted": true
      },
      "outputs": [
        {
          "name": "stdout",
          "text": "\u001b[1mNumber of attributes:\u001b[0m 23\n\n\n\u001b[1mAttribute types:\u001b[0m\n                      Data Types\nSurvey_id                  int64\nVille_id                   int64\nsex                        int64\nAge                        int64\nMarried                    int64\nNumber_children            int64\neducation_level            int64\ntotal_members              int64\ngained_asset               int64\ndurable_asset              int64\nsave_asset                 int64\nliving_expenses            int64\nother_expenses             int64\nincoming_salary            int64\nincoming_own_farm          int64\nincoming_business          int64\nincoming_no_business       int64\nincoming_agricultural      int64\nfarm_expenses              int64\nlabor_primary              int64\nlasting_investment         int64\nno_lasting_investmen     float64\ndepressed                  int64\n\n\n\u001b[1mNumber of objects:\u001b[0m 1429\n\n\n",
          "output_type": "stream"
        }
      ],
      "execution_count": 7
    },
    {
      "cell_type": "markdown",
      "source": "####\nAttributes: The dataset contains multiple features related to depression such as:\n1. Survey_id: A unique identifier for each respondent in the dataset.\n2. Ville_id: Refers to the ID of the respondent's village or town.\n3. sex: The gender of the respondent.\n4. Age: The age of the respondent in years.\n5. Married: Indicates the marital status of the respondent, often coded as 0 (unmarried) or 1 (married).\n6. Number_children: The total number of children the respondent has.\n7. education_level: The highest level of education attained by the respondent, which could be categorized as primary, secondary, or higher education.\n8. total_members: The number of members in the respondent's household, indicating family size.\n9. gained_asset: The assets gained by the respondent or household, possibly indicating economic progress.\n10. durable_asset: The ownership of durable assets like cars, appliances, etc.\n11. save_asset: The amount or presence of savings or financial assets held by the respondent.\n12. living_expenses: The monthly or yearly expenses for basic living needs (e.g., food, housing).\n13. other_expenses: Expenses beyond basic needs, such as entertainment or leisure activities.\n14. incoming_salary: The salary or wage income the respondent receives from employment.\n15. incoming_own_farm: Income derived from the respondent’s own farming activities.\n16. incoming_business: Income generated from the respondent’s business operations.\n17. incoming_no_business: Income from non-business sources (could include pensions, government aid, etc.).\n18. incoming_agricultural: Income from agricultural activities, possibly farming or livestock.\n19. farm_expenses: Expenses related to maintaining or operating a farm.\n20. labor_primary: The labor status of the respondent, whether they are the primary laborer in their household or community.\n21. lasting_investment: Investments made by the respondent in long-term assets or financial ventures.\n22. no_lasting_investment: Lack of or absence of long-term investments.\n23. depressed: The target variable indicating whether the respondent is depressed, labeled as 0 for \"Not Depressed\" and 1 for \"Depressed\". This binary attribute is the class label of the dataset, used for classification tasks.\n\nData type: The dataset features quantitative and qualitative attributes, including numeric and categorical variables.\n\nNumber of records (objects): The dataset consists of approximately 1432 data entries.\n\nClass labels: The dataset is focused on detecting whether a person is depressed, often using binary labels like \"Depressed\" and \"Not Depressed\" based on various assessments.",
      "metadata": {}
    },
    {
      "cell_type": "markdown",
      "source": "### Source of dataset:",
      "metadata": {}
    },
    {
      "cell_type": "markdown",
      "source": "###### https://www.kaggle.com/datasets/diegobabativa/depression?resource=download ",
      "metadata": {}
    }
  ]
}